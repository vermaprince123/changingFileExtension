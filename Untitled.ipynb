{
 "cells": [
  {
   "cell_type": "code",
   "execution_count": 7,
   "id": "dda8ed94",
   "metadata": {},
   "outputs": [],
   "source": [
    "# --------------------------------------------------author Prince Verma-----------------------------------------\n",
    "#-----------------changing file extension---------------------\n",
    "\n",
    "import cv2\n",
    "imPath = r\"C:\\Users\\dglig\\Desktop\\conversionFile\\imagePng.png\"\n",
    "img1 = cv2.imread(imPath)\n",
    "img2 = r\"C:\\Users\\dglig\\Desktop\\conversionFile\\outputImage\\imagejpg.jpg\"\n",
    "img3 = cv2.imwrite(img2, img1)\n",
    "\n"
   ]
  },
  {
   "cell_type": "code",
   "execution_count": null,
   "id": "3d8f946b",
   "metadata": {},
   "outputs": [],
   "source": []
  }
 ],
 "metadata": {
  "kernelspec": {
   "display_name": "Python 3",
   "language": "python",
   "name": "python3"
  },
  "language_info": {
   "codemirror_mode": {
    "name": "ipython",
    "version": 3
   },
   "file_extension": ".py",
   "mimetype": "text/x-python",
   "name": "python",
   "nbconvert_exporter": "python",
   "pygments_lexer": "ipython3",
   "version": "3.8.8"
  }
 },
 "nbformat": 4,
 "nbformat_minor": 5
}
